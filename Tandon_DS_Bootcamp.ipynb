{
  "metadata": {
    "colab": {
      "provenance": [],
      "name": "Tandon DS Bootcamp",
      "include_colab_link": true
    },
    "kaggle": {
      "accelerator": "none",
      "dataSources": [
        {
          "sourceId": 611395,
          "sourceType": "datasetVersion",
          "datasetId": 268833
        }
      ],
      "dockerImageVersionId": 30673,
      "isInternetEnabled": false,
      "language": "python",
      "sourceType": "notebook",
      "isGpuEnabled": false
    },
    "kernelspec": {
      "display_name": "Python 3",
      "language": "python",
      "name": "python3"
    },
    "language_info": {
      "codemirror_mode": {
        "name": "ipython",
        "version": 3
      },
      "file_extension": ".py",
      "mimetype": "text/x-python",
      "name": "python",
      "nbconvert_exporter": "python",
      "pygments_lexer": "ipython3",
      "version": "3.10.13"
    },
    "papermill": {
      "default_parameters": {},
      "duration": 103.052817,
      "end_time": "2024-04-04T02:14:58.39982",
      "environment_variables": {},
      "exception": null,
      "input_path": "__notebook__.ipynb",
      "output_path": "__notebook__.ipynb",
      "parameters": {},
      "start_time": "2024-04-04T02:13:15.347003",
      "version": "2.5.0"
    }
  },
  "nbformat_minor": 0,
  "nbformat": 4,
  "cells": [
    {
      "cell_type": "markdown",
      "metadata": {
        "id": "view-in-github",
        "colab_type": "text"
      },
      "source": [
        "<a href=\"https://colab.research.google.com/github/diyizhilunba/Data-Science-Boot-Camp/blob/main/Tandon_DS_Bootcamp.ipynb\" target=\"_parent\"><img src=\"https://colab.research.google.com/assets/colab-badge.svg\" alt=\"Open In Colab\"/></a>"
      ]
    },
    {
      "source": [
        "\n",
        "# IMPORTANT: RUN THIS CELL IN ORDER TO IMPORT YOUR KAGGLE DATA SOURCES\n",
        "# TO THE CORRECT LOCATION (/kaggle/input) IN YOUR NOTEBOOK,\n",
        "# THEN FEEL FREE TO DELETE THIS CELL.\n",
        "# NOTE: THIS NOTEBOOK ENVIRONMENT DIFFERS FROM KAGGLE'S PYTHON\n",
        "# ENVIRONMENT SO THERE MAY BE MISSING LIBRARIES USED BY YOUR\n",
        "# NOTEBOOK.\n",
        "\n",
        "import os\n",
        "import sys\n",
        "from tempfile import NamedTemporaryFile\n",
        "from urllib.request import urlopen\n",
        "from urllib.parse import unquote, urlparse\n",
        "from urllib.error import HTTPError\n",
        "from zipfile import ZipFile\n",
        "import tarfile\n",
        "import shutil\n",
        "\n",
        "CHUNK_SIZE = 40960\n",
        "DATA_SOURCE_MAPPING = 'new-york-city-airbnb-open-data:https%3A%2F%2Fstorage.googleapis.com%2Fkaggle-data-sets%2F268833%2F611395%2Fbundle%2Farchive.zip%3FX-Goog-Algorithm%3DGOOG4-RSA-SHA256%26X-Goog-Credential%3Dgcp-kaggle-com%2540kaggle-161607.iam.gserviceaccount.com%252F20240911%252Fauto%252Fstorage%252Fgoog4_request%26X-Goog-Date%3D20240911T185149Z%26X-Goog-Expires%3D259200%26X-Goog-SignedHeaders%3Dhost%26X-Goog-Signature%3D56f8ff1cb2c78dcdd8e3ffbfd4ec8e132263e8d28c1ce94511f134d78957ba71ff2f5f382ef536280bec480f67f763e4dbf14b7b5090e5673c61b3323d771bd35e910576c580fe6804b10248f9930c4ca1ac9329530a943fd64587e173a96ca991bc02c410f2b40a0cd10d21b0e7631b3abc1d37670de1fedf022742b23c9464253043a1f4eac6abcfed6674e96a57ab2ce9debf1452b5e349fbfe46927d085a572a11cc7fd246a6c5f440d6e14be3d571c7d606fdd5138b5ce106a7ae137f26d436249cdfa907c6e7fab44e2dd256455296844adc8d1c328d4b049d791616135994af580de0f86d231aa66eee418935f2e4a8e5c14594a3654b31358e2ac66f'\n",
        "\n",
        "KAGGLE_INPUT_PATH='/kaggle/input'\n",
        "KAGGLE_WORKING_PATH='/kaggle/working'\n",
        "KAGGLE_SYMLINK='kaggle'\n",
        "\n",
        "!umount /kaggle/input/ 2> /dev/null\n",
        "shutil.rmtree('/kaggle/input', ignore_errors=True)\n",
        "os.makedirs(KAGGLE_INPUT_PATH, 0o777, exist_ok=True)\n",
        "os.makedirs(KAGGLE_WORKING_PATH, 0o777, exist_ok=True)\n",
        "\n",
        "try:\n",
        "  os.symlink(KAGGLE_INPUT_PATH, os.path.join(\"..\", 'input'), target_is_directory=True)\n",
        "except FileExistsError:\n",
        "  pass\n",
        "try:\n",
        "  os.symlink(KAGGLE_WORKING_PATH, os.path.join(\"..\", 'working'), target_is_directory=True)\n",
        "except FileExistsError:\n",
        "  pass\n",
        "\n",
        "for data_source_mapping in DATA_SOURCE_MAPPING.split(','):\n",
        "    directory, download_url_encoded = data_source_mapping.split(':')\n",
        "    download_url = unquote(download_url_encoded)\n",
        "    filename = urlparse(download_url).path\n",
        "    destination_path = os.path.join(KAGGLE_INPUT_PATH, directory)\n",
        "    try:\n",
        "        with urlopen(download_url) as fileres, NamedTemporaryFile() as tfile:\n",
        "            total_length = fileres.headers['content-length']\n",
        "            print(f'Downloading {directory}, {total_length} bytes compressed')\n",
        "            dl = 0\n",
        "            data = fileres.read(CHUNK_SIZE)\n",
        "            while len(data) > 0:\n",
        "                dl += len(data)\n",
        "                tfile.write(data)\n",
        "                done = int(50 * dl / int(total_length))\n",
        "                sys.stdout.write(f\"\\r[{'=' * done}{' ' * (50-done)}] {dl} bytes downloaded\")\n",
        "                sys.stdout.flush()\n",
        "                data = fileres.read(CHUNK_SIZE)\n",
        "            if filename.endswith('.zip'):\n",
        "              with ZipFile(tfile) as zfile:\n",
        "                zfile.extractall(destination_path)\n",
        "            else:\n",
        "              with tarfile.open(tfile.name) as tarfile:\n",
        "                tarfile.extractall(destination_path)\n",
        "            print(f'\\nDownloaded and uncompressed: {directory}')\n",
        "    except HTTPError as e:\n",
        "        print(f'Failed to load (likely expired) {download_url} to path {destination_path}')\n",
        "        continue\n",
        "    except OSError as e:\n",
        "        print(f'Failed to load {download_url} to path {destination_path}')\n",
        "        continue\n",
        "\n",
        "print('Data source import complete.')\n"
      ],
      "metadata": {
        "id": "Q88WE1WGbXk7"
      },
      "cell_type": "code",
      "outputs": [],
      "execution_count": null
    },
    {
      "cell_type": "code",
      "source": [
        "import pandas as pd\n",
        "import matplotlib.pyplot as plt\n",
        "import seaborn as sns\n",
        "import plotly.express as px\n",
        "import numpy as np"
      ],
      "metadata": {
        "execution": {
          "iopub.execute_input": "2024-04-04T02:13:18.052479Z",
          "iopub.status.busy": "2024-04-04T02:13:18.052102Z",
          "iopub.status.idle": "2024-04-04T02:13:20.824366Z",
          "shell.execute_reply": "2024-04-04T02:13:20.823383Z"
        },
        "id": "166d47ce",
        "papermill": {
          "duration": 2.784854,
          "end_time": "2024-04-04T02:13:20.827035",
          "exception": false,
          "start_time": "2024-04-04T02:13:18.042181",
          "status": "completed"
        },
        "tags": []
      },
      "execution_count": null,
      "outputs": []
    },
    {
      "cell_type": "markdown",
      "source": [
        "# Read Data and Create a Data Frame"
      ],
      "metadata": {
        "id": "5bd59150",
        "papermill": {
          "duration": 0.006773,
          "end_time": "2024-04-04T02:13:20.841029",
          "exception": false,
          "start_time": "2024-04-04T02:13:20.834256",
          "status": "completed"
        },
        "tags": []
      }
    },
    {
      "cell_type": "code",
      "source": [
        "url = '/kaggle/input/new-york-city-airbnb-open-data/AB_NYC_2019.csv'# use relative path\n",
        "df = pd.read_csv(url)\n",
        "df.head(5)"
      ],
      "metadata": {
        "execution": {
          "iopub.execute_input": "2024-04-04T02:13:20.856797Z",
          "iopub.status.busy": "2024-04-04T02:13:20.85619Z",
          "iopub.status.idle": "2024-04-04T02:13:21.14171Z",
          "shell.execute_reply": "2024-04-04T02:13:21.140614Z"
        },
        "id": "1a3fb9ac",
        "papermill": {
          "duration": 0.296425,
          "end_time": "2024-04-04T02:13:21.144354",
          "exception": false,
          "start_time": "2024-04-04T02:13:20.847929",
          "status": "completed"
        },
        "tags": []
      },
      "execution_count": null,
      "outputs": []
    },
    {
      "cell_type": "code",
      "source": [
        "df.tail(5)"
      ],
      "metadata": {
        "execution": {
          "iopub.execute_input": "2024-04-04T02:13:21.160296Z",
          "iopub.status.busy": "2024-04-04T02:13:21.159891Z",
          "iopub.status.idle": "2024-04-04T02:13:21.178072Z",
          "shell.execute_reply": "2024-04-04T02:13:21.177045Z"
        },
        "id": "228b6363",
        "papermill": {
          "duration": 0.028918,
          "end_time": "2024-04-04T02:13:21.18034",
          "exception": false,
          "start_time": "2024-04-04T02:13:21.151422",
          "status": "completed"
        },
        "tags": []
      },
      "execution_count": null,
      "outputs": []
    },
    {
      "cell_type": "markdown",
      "source": [
        "# Understand Data"
      ],
      "metadata": {
        "id": "b9a15c4c",
        "papermill": {
          "duration": 0.00729,
          "end_time": "2024-04-04T02:13:21.195147",
          "exception": false,
          "start_time": "2024-04-04T02:13:21.187857",
          "status": "completed"
        },
        "tags": []
      }
    },
    {
      "cell_type": "code",
      "source": [
        "df.info() # check entrie number, entrie index, conlum number, data type, and missing values for each column"
      ],
      "metadata": {
        "execution": {
          "iopub.execute_input": "2024-04-04T02:13:21.212597Z",
          "iopub.status.busy": "2024-04-04T02:13:21.211806Z",
          "iopub.status.idle": "2024-04-04T02:13:21.2528Z",
          "shell.execute_reply": "2024-04-04T02:13:21.25166Z"
        },
        "id": "1c90c5a0",
        "papermill": {
          "duration": 0.0533,
          "end_time": "2024-04-04T02:13:21.255892",
          "exception": false,
          "start_time": "2024-04-04T02:13:21.202592",
          "status": "completed"
        },
        "tags": []
      },
      "execution_count": null,
      "outputs": []
    },
    {
      "cell_type": "code",
      "source": [
        "df.isnull().sum() # check missing values for each column"
      ],
      "metadata": {
        "execution": {
          "iopub.execute_input": "2024-04-04T02:13:21.273517Z",
          "iopub.status.busy": "2024-04-04T02:13:21.272525Z",
          "iopub.status.idle": "2024-04-04T02:13:21.297514Z",
          "shell.execute_reply": "2024-04-04T02:13:21.296393Z"
        },
        "id": "52bff65d",
        "papermill": {
          "duration": 0.036255,
          "end_time": "2024-04-04T02:13:21.299846",
          "exception": false,
          "start_time": "2024-04-04T02:13:21.263591",
          "status": "completed"
        },
        "tags": []
      },
      "execution_count": null,
      "outputs": []
    },
    {
      "cell_type": "markdown",
      "source": [
        "# Fill Missing Data"
      ],
      "metadata": {
        "id": "f4bf4b1a",
        "papermill": {
          "duration": 0.008209,
          "end_time": "2024-04-04T02:13:21.315665",
          "exception": false,
          "start_time": "2024-04-04T02:13:21.307456",
          "status": "completed"
        },
        "tags": []
      }
    },
    {
      "cell_type": "code",
      "source": [
        "df['reviews_per_month'] = df['reviews_per_month'].fillna(df['reviews_per_month'].mean()) # fill missing values with mean value\n",
        "df.isnull().sum() # check missing values for each column"
      ],
      "metadata": {
        "execution": {
          "iopub.execute_input": "2024-04-04T02:13:21.332744Z",
          "iopub.status.busy": "2024-04-04T02:13:21.332349Z",
          "iopub.status.idle": "2024-04-04T02:13:21.358523Z",
          "shell.execute_reply": "2024-04-04T02:13:21.35744Z"
        },
        "id": "04a35431",
        "papermill": {
          "duration": 0.037435,
          "end_time": "2024-04-04T02:13:21.360734",
          "exception": false,
          "start_time": "2024-04-04T02:13:21.323299",
          "status": "completed"
        },
        "tags": []
      },
      "execution_count": null,
      "outputs": []
    },
    {
      "cell_type": "code",
      "source": [
        "df['reviews_per_month'].head() # 2 is filled with mean value"
      ],
      "metadata": {
        "execution": {
          "iopub.execute_input": "2024-04-04T02:13:21.377931Z",
          "iopub.status.busy": "2024-04-04T02:13:21.377489Z",
          "iopub.status.idle": "2024-04-04T02:13:21.385463Z",
          "shell.execute_reply": "2024-04-04T02:13:21.384463Z"
        },
        "id": "19d2a4e3",
        "papermill": {
          "duration": 0.018723,
          "end_time": "2024-04-04T02:13:21.387378",
          "exception": false,
          "start_time": "2024-04-04T02:13:21.368655",
          "status": "completed"
        },
        "tags": []
      },
      "execution_count": null,
      "outputs": []
    },
    {
      "cell_type": "markdown",
      "source": [
        "# Drop Duplicate Data"
      ],
      "metadata": {
        "id": "4a3d295d",
        "papermill": {
          "duration": 0.007713,
          "end_time": "2024-04-04T02:13:21.403753",
          "exception": false,
          "start_time": "2024-04-04T02:13:21.39604",
          "status": "completed"
        },
        "tags": []
      }
    },
    {
      "cell_type": "code",
      "source": [
        "df.drop_duplicates(inplace=True)\n",
        "df.reset_index(drop=True, inplace=True)"
      ],
      "metadata": {
        "_cell_guid": "b1076dfc-b9ad-4769-8c92-a6c4dae69d19",
        "_uuid": "8f2839f25d086af736a60e9eeb907d3b93b6e0e5",
        "execution": {
          "iopub.execute_input": "2024-04-04T02:13:21.421736Z",
          "iopub.status.busy": "2024-04-04T02:13:21.421057Z",
          "iopub.status.idle": "2024-04-04T02:13:21.480504Z",
          "shell.execute_reply": "2024-04-04T02:13:21.47929Z"
        },
        "id": "43db7c89",
        "papermill": {
          "duration": 0.071436,
          "end_time": "2024-04-04T02:13:21.483109",
          "exception": false,
          "start_time": "2024-04-04T02:13:21.411673",
          "status": "completed"
        },
        "tags": []
      },
      "execution_count": null,
      "outputs": []
    },
    {
      "cell_type": "markdown",
      "source": [
        "# Drop Specified Columns"
      ],
      "metadata": {
        "id": "07a031a2",
        "papermill": {
          "duration": 0.00766,
          "end_time": "2024-04-04T02:13:21.499064",
          "exception": false,
          "start_time": "2024-04-04T02:13:21.491404",
          "status": "completed"
        },
        "tags": []
      }
    },
    {
      "cell_type": "code",
      "source": [
        "df.drop(['name','host_name','last_review','id','host_id'], axis=1, inplace=True) # drop columns that are not useful for analysis"
      ],
      "metadata": {
        "execution": {
          "iopub.execute_input": "2024-04-04T02:13:21.516724Z",
          "iopub.status.busy": "2024-04-04T02:13:21.516301Z",
          "iopub.status.idle": "2024-04-04T02:13:21.527795Z",
          "shell.execute_reply": "2024-04-04T02:13:21.527003Z"
        },
        "id": "01a7a6ea",
        "papermill": {
          "duration": 0.022643,
          "end_time": "2024-04-04T02:13:21.529678",
          "exception": false,
          "start_time": "2024-04-04T02:13:21.507035",
          "status": "completed"
        },
        "tags": []
      },
      "execution_count": null,
      "outputs": []
    },
    {
      "cell_type": "code",
      "source": [
        "df.isnull().sum()"
      ],
      "metadata": {
        "execution": {
          "iopub.execute_input": "2024-04-04T02:13:21.547669Z",
          "iopub.status.busy": "2024-04-04T02:13:21.54663Z",
          "iopub.status.idle": "2024-04-04T02:13:21.562977Z",
          "shell.execute_reply": "2024-04-04T02:13:21.561969Z"
        },
        "id": "0807c85b",
        "papermill": {
          "duration": 0.027579,
          "end_time": "2024-04-04T02:13:21.565156",
          "exception": false,
          "start_time": "2024-04-04T02:13:21.537577",
          "status": "completed"
        },
        "tags": []
      },
      "execution_count": null,
      "outputs": []
    },
    {
      "cell_type": "markdown",
      "source": [
        "# Check Correlation"
      ],
      "metadata": {
        "id": "536d9de9",
        "papermill": {
          "duration": 0.007788,
          "end_time": "2024-04-04T02:13:21.581031",
          "exception": false,
          "start_time": "2024-04-04T02:13:21.573243",
          "status": "completed"
        },
        "tags": []
      }
    },
    {
      "cell_type": "code",
      "source": [
        "# Creating a correlation matrix\n",
        "correlation_matrix = df[['price', 'minimum_nights', 'number_of_reviews','reviews_per_month','availability_365','longitude','latitude']].corr()\n",
        "\n",
        "# Plotting the correlation matrix as a heatmap\n",
        "plt.figure(figsize=(8, 6))\n",
        "sns.heatmap(correlation_matrix, annot=True, cmap='coolwarm', fmt=\".2f\")\n",
        "plt.title('Correlation Matrix of Pedestrians, Temperature, and Precipitation')\n",
        "plt.tight_layout()\n",
        "plt.show()"
      ],
      "metadata": {
        "execution": {
          "iopub.execute_input": "2024-04-04T02:13:21.598444Z",
          "iopub.status.busy": "2024-04-04T02:13:21.598009Z",
          "iopub.status.idle": "2024-04-04T02:13:22.078866Z",
          "shell.execute_reply": "2024-04-04T02:13:22.078001Z"
        },
        "id": "f5f1db91",
        "papermill": {
          "duration": 0.492536,
          "end_time": "2024-04-04T02:13:22.081312",
          "exception": false,
          "start_time": "2024-04-04T02:13:21.588776",
          "status": "completed"
        },
        "tags": []
      },
      "execution_count": null,
      "outputs": []
    },
    {
      "cell_type": "code",
      "source": [
        "# Drop either \"reviews_per_month\" or \"number_of_reviews\" column because of the high correlation\n",
        "df.drop(['number_of_reviews'], axis=1, inplace=True)\n",
        "df.isnull().sum()"
      ],
      "metadata": {
        "execution": {
          "iopub.execute_input": "2024-04-04T02:13:22.102013Z",
          "iopub.status.busy": "2024-04-04T02:13:22.101219Z",
          "iopub.status.idle": "2024-04-04T02:13:22.120399Z",
          "shell.execute_reply": "2024-04-04T02:13:22.119021Z"
        },
        "id": "0f2056cd",
        "papermill": {
          "duration": 0.032255,
          "end_time": "2024-04-04T02:13:22.122739",
          "exception": false,
          "start_time": "2024-04-04T02:13:22.090484",
          "status": "completed"
        },
        "tags": []
      },
      "execution_count": null,
      "outputs": []
    },
    {
      "cell_type": "markdown",
      "source": [
        "# Validating expectations"
      ],
      "metadata": {
        "id": "6a5d6040",
        "papermill": {
          "duration": 0.009533,
          "end_time": "2024-04-04T02:13:22.141677",
          "exception": false,
          "start_time": "2024-04-04T02:13:22.132144",
          "status": "completed"
        },
        "tags": []
      }
    },
    {
      "cell_type": "code",
      "source": [
        "df.describe() # check the basic statistics of the data"
      ],
      "metadata": {
        "execution": {
          "iopub.execute_input": "2024-04-04T02:13:22.162367Z",
          "iopub.status.busy": "2024-04-04T02:13:22.161513Z",
          "iopub.status.idle": "2024-04-04T02:13:22.20589Z",
          "shell.execute_reply": "2024-04-04T02:13:22.204692Z"
        },
        "id": "ad1e2c14",
        "papermill": {
          "duration": 0.057437,
          "end_time": "2024-04-04T02:13:22.208319",
          "exception": false,
          "start_time": "2024-04-04T02:13:22.150882",
          "status": "completed"
        },
        "tags": []
      },
      "execution_count": null,
      "outputs": []
    },
    {
      "cell_type": "markdown",
      "source": [
        "# Problem statement"
      ],
      "metadata": {
        "id": "fc3bf67e",
        "papermill": {
          "duration": 0.009251,
          "end_time": "2024-04-04T02:13:22.227545",
          "exception": false,
          "start_time": "2024-04-04T02:13:22.218294",
          "status": "completed"
        },
        "tags": []
      }
    },
    {
      "cell_type": "markdown",
      "source": [
        "**Goal**\n",
        "\n",
        "Build a Machine Learning Model to Predict Airbnb Price\n",
        "- Price\n",
        "\n",
        "**Feature Selection Hypothesis**\n",
        "\n",
        "- neighbourhood_group               \n",
        "- neighbourhood                                 \n",
        "- room_type                                                 \n",
        "- minimum_nights                                   \n",
        "- reviews_per_month                   \n",
        "- availability_365    \n",
        "- logitude\n",
        "- latitude"
      ],
      "metadata": {
        "id": "3a778977",
        "papermill": {
          "duration": 0.009312,
          "end_time": "2024-04-04T02:13:22.24694",
          "exception": false,
          "start_time": "2024-04-04T02:13:22.237628",
          "status": "completed"
        },
        "tags": []
      }
    },
    {
      "cell_type": "markdown",
      "source": [
        "# Data Visualization"
      ],
      "metadata": {
        "id": "98ce7831",
        "papermill": {
          "duration": 0.009109,
          "end_time": "2024-04-04T02:13:22.265468",
          "exception": false,
          "start_time": "2024-04-04T02:13:22.256359",
          "status": "completed"
        },
        "tags": []
      }
    },
    {
      "cell_type": "code",
      "source": [
        "#creating a sub-dataframe with no extreme values / less than 500\n",
        "sub_6=df[df.price < 500]\n",
        "#using violinplot to showcase density and distribtuion of prices\n",
        "viz_2=sns.violinplot(data=sub_6, x='neighbourhood_group', y='price')\n",
        "viz_2.set_title('Density and distribution of prices for each neighberhood_group')"
      ],
      "metadata": {
        "execution": {
          "iopub.execute_input": "2024-04-04T02:13:22.286321Z",
          "iopub.status.busy": "2024-04-04T02:13:22.285527Z",
          "iopub.status.idle": "2024-04-04T02:13:22.874883Z",
          "shell.execute_reply": "2024-04-04T02:13:22.873776Z"
        },
        "id": "da8d9bce",
        "papermill": {
          "duration": 0.602346,
          "end_time": "2024-04-04T02:13:22.877086",
          "exception": false,
          "start_time": "2024-04-04T02:13:22.27474",
          "status": "completed"
        },
        "tags": []
      },
      "execution_count": null,
      "outputs": []
    },
    {
      "cell_type": "code",
      "source": [
        "#let's now combine this with our boroughs and room type for a rich visualization we can make\n",
        "\n",
        "#grabbing top 10 neighbourhoods for sub-dataframe\n",
        "sub_7=df.loc[df['neighbourhood'].isin(['Williamsburg','Bedford-Stuyvesant','Harlem','Bushwick',\n",
        "                 'Upper West Side','Hell\\'s Kitchen','East Village','Upper East Side','Crown Heights','Midtown'])]\n",
        "#using catplot to represent multiple interesting attributes together and a count\n",
        "viz_3=sns.catplot(x='neighbourhood', hue='neighbourhood_group', col='room_type', data=sub_7, kind='count')\n",
        "viz_3.set_xticklabels(rotation=90)"
      ],
      "metadata": {
        "execution": {
          "iopub.execute_input": "2024-04-04T02:13:22.901807Z",
          "iopub.status.busy": "2024-04-04T02:13:22.900663Z",
          "iopub.status.idle": "2024-04-04T02:13:24.440957Z",
          "shell.execute_reply": "2024-04-04T02:13:24.4401Z"
        },
        "id": "cbe59d4d",
        "papermill": {
          "duration": 1.557257,
          "end_time": "2024-04-04T02:13:24.445778",
          "exception": false,
          "start_time": "2024-04-04T02:13:22.888521",
          "status": "completed"
        },
        "tags": []
      },
      "execution_count": null,
      "outputs": []
    },
    {
      "cell_type": "code",
      "source": [
        "plt.figure(figsize=(10,10))\n",
        "ax = sns.boxplot(data=df, x='neighbourhood_group',y='availability_365')"
      ],
      "metadata": {
        "execution": {
          "iopub.execute_input": "2024-04-04T02:13:24.476491Z",
          "iopub.status.busy": "2024-04-04T02:13:24.475443Z",
          "iopub.status.idle": "2024-04-04T02:13:24.817483Z",
          "shell.execute_reply": "2024-04-04T02:13:24.816358Z"
        },
        "id": "a5c514aa",
        "papermill": {
          "duration": 0.360441,
          "end_time": "2024-04-04T02:13:24.819681",
          "exception": false,
          "start_time": "2024-04-04T02:13:24.45924",
          "status": "completed"
        },
        "tags": []
      },
      "execution_count": null,
      "outputs": []
    },
    {
      "cell_type": "code",
      "source": [
        "from wordcloud import WordCloud\n",
        "plt.subplots(figsize=(25,15))\n",
        "wordcloud = WordCloud(\n",
        "                          background_color='white',\n",
        "                          width=1920,\n",
        "                          height=1080\n",
        "                         ).generate(\" \".join(df.neighbourhood))\n",
        "plt.imshow(wordcloud)\n",
        "plt.axis('off')\n",
        "plt.savefig('neighbourhood.png')\n",
        "plt.show()"
      ],
      "metadata": {
        "execution": {
          "iopub.execute_input": "2024-04-04T02:13:24.846219Z",
          "iopub.status.busy": "2024-04-04T02:13:24.845749Z",
          "iopub.status.idle": "2024-04-04T02:13:31.062298Z",
          "shell.execute_reply": "2024-04-04T02:13:31.061097Z"
        },
        "id": "d7c8aa7b",
        "papermill": {
          "duration": 6.249427,
          "end_time": "2024-04-04T02:13:31.081303",
          "exception": false,
          "start_time": "2024-04-04T02:13:24.831876",
          "status": "completed"
        },
        "tags": []
      },
      "execution_count": null,
      "outputs": []
    },
    {
      "cell_type": "code",
      "source": [
        "sns.pairplot(df, vars=['price', 'minimum_nights','reviews_per_month','availability_365','longitude','latitude'], plot_kws={'alpha':0.5, 'size': 0.1})# Sractch a pairplot to visualize the data\n"
      ],
      "metadata": {
        "execution": {
          "iopub.execute_input": "2024-04-04T02:13:31.14437Z",
          "iopub.status.busy": "2024-04-04T02:13:31.143544Z",
          "iopub.status.idle": "2024-04-04T02:14:49.595411Z",
          "shell.execute_reply": "2024-04-04T02:14:49.594135Z"
        },
        "id": "36c0c83a",
        "papermill": {
          "duration": 78.546756,
          "end_time": "2024-04-04T02:14:49.65817",
          "exception": false,
          "start_time": "2024-04-04T02:13:31.111414",
          "status": "completed"
        },
        "tags": []
      },
      "execution_count": null,
      "outputs": []
    },
    {
      "cell_type": "code",
      "source": [
        "dis_legend = ['Brooklyn', 'Manhattan', 'Queens', 'Staten Island', 'Bronx', '95% quantile', '99% quantile']\n",
        "\n",
        "#Plot the density map of price by neighbourhood_group\n",
        "sns.kdeplot(df, x='price', hue='neighbourhood_group', clip=(-10, 1000))\n",
        "\n",
        "# Calculate the 95% quantile\n",
        "q95 = np.quantile(df['price'], 0.95)\n",
        "plt.axvline(q95, color='red', linestyle='--')\n",
        "# Draw a vertical line at the 95% quantile\n",
        "plt.axvline(q95, color='red', linestyle='--', label=f'95% Quantile: {q95:.2f}')\n",
        "\n",
        "# Calculate the 99% quantile\n",
        "q99 = np.quantile(df['price'], 0.99)\n",
        "plt.axvline(q99, color='red', linestyle='--')\n",
        "# Draw a vertical line at the 99% quantile\n",
        "plt.axvline(q99, color='violet', linestyle='--', label=f'95% Quantile: {q99:.2f}')\n",
        "plt.legend(dis_legend, loc='upper right')"
      ],
      "metadata": {
        "execution": {
          "iopub.execute_input": "2024-04-04T02:14:49.757167Z",
          "iopub.status.busy": "2024-04-04T02:14:49.756732Z",
          "iopub.status.idle": "2024-04-04T02:14:50.586218Z",
          "shell.execute_reply": "2024-04-04T02:14:50.585065Z"
        },
        "id": "debf924b",
        "papermill": {
          "duration": 0.883369,
          "end_time": "2024-04-04T02:14:50.589551",
          "exception": false,
          "start_time": "2024-04-04T02:14:49.706182",
          "status": "completed"
        },
        "tags": []
      },
      "execution_count": null,
      "outputs": []
    },
    {
      "cell_type": "code",
      "source": [
        "type_lengend = ['Private room','Entire home/apt','Shared room']\n",
        "#\n",
        "sns.kdeplot(df,x = 'price', hue = 'room_type', clip = (-10,1000))\n",
        "# Calculate the 95% quantile\n",
        "q95 = np.quantile(df['price'], 0.95)\n",
        "plt.axvline(q95, color='red', linestyle='--')\n",
        "# Draw a vertical line at the 95% quantile\n",
        "plt.axvline(q95, color='red', linestyle='--', label=f'95% Quantile: {q95:.2f}')\n",
        "\n",
        "# Calculate the 99% quantile\n",
        "q99 = np.quantile(df['price'], 0.99)\n",
        "plt.axvline(q99, color='red', linestyle='--')\n",
        "# Draw a vertical line at the 99% quantile\n",
        "plt.axvline(q99, color='violet', linestyle='--', label=f'95% Quantile: {q99:.2f}')\n",
        "plt.legend(type_lengend, loc='upper right')"
      ],
      "metadata": {
        "execution": {
          "iopub.execute_input": "2024-04-04T02:14:50.704481Z",
          "iopub.status.busy": "2024-04-04T02:14:50.703614Z",
          "iopub.status.idle": "2024-04-04T02:14:51.441475Z",
          "shell.execute_reply": "2024-04-04T02:14:51.440654Z"
        },
        "id": "e233b0ce",
        "papermill": {
          "duration": 0.795946,
          "end_time": "2024-04-04T02:14:51.443544",
          "exception": false,
          "start_time": "2024-04-04T02:14:50.647598",
          "status": "completed"
        },
        "tags": []
      },
      "execution_count": null,
      "outputs": []
    },
    {
      "cell_type": "code",
      "source": [
        "sns.barplot(df,\n",
        "            x='neighbourhood_group',\n",
        "            y='price',\n",
        "            hue='room_type')\n",
        "\n",
        "plt.legend(title='Room Types:')"
      ],
      "metadata": {
        "execution": {
          "iopub.execute_input": "2024-04-04T02:14:51.549868Z",
          "iopub.status.busy": "2024-04-04T02:14:51.548975Z",
          "iopub.status.idle": "2024-04-04T02:14:52.575285Z",
          "shell.execute_reply": "2024-04-04T02:14:52.573849Z"
        },
        "id": "c60f418b",
        "papermill": {
          "duration": 1.083318,
          "end_time": "2024-04-04T02:14:52.577529",
          "exception": false,
          "start_time": "2024-04-04T02:14:51.494211",
          "status": "completed"
        },
        "tags": []
      },
      "execution_count": null,
      "outputs": []
    },
    {
      "cell_type": "code",
      "source": [
        "sns.scatterplot(df,\n",
        "                x='longitude',\n",
        "                y='latitude',\n",
        "                hue='neighbourhood_group')"
      ],
      "metadata": {
        "execution": {
          "iopub.execute_input": "2024-04-04T02:14:52.686696Z",
          "iopub.status.busy": "2024-04-04T02:14:52.685978Z",
          "iopub.status.idle": "2024-04-04T02:14:55.667972Z",
          "shell.execute_reply": "2024-04-04T02:14:55.667057Z"
        },
        "id": "f3880ca0",
        "papermill": {
          "duration": 3.042636,
          "end_time": "2024-04-04T02:14:55.671458",
          "exception": false,
          "start_time": "2024-04-04T02:14:52.628822",
          "status": "completed"
        },
        "tags": []
      },
      "execution_count": null,
      "outputs": []
    },
    {
      "cell_type": "markdown",
      "source": [
        "## Feature Engineering"
      ],
      "metadata": {
        "id": "VkwgFA0pEMxy"
      }
    },
    {
      "cell_type": "code",
      "source": [
        "from sklearn.preprocessing import OneHotEncoder"
      ],
      "metadata": {
        "id": "OCJCoM6f51NX"
      },
      "execution_count": null,
      "outputs": []
    },
    {
      "cell_type": "code",
      "source": [
        "df.head(10)"
      ],
      "metadata": {
        "id": "AFHBQs6_6Uiu"
      },
      "execution_count": null,
      "outputs": []
    },
    {
      "cell_type": "code",
      "source": [
        "categorical_columns = ['neighbourhood_group','room_type']\n",
        "\n",
        "# OneHotEncoded these categorical columns\n",
        "onehot_encoder = OneHotEncoder(sparse=False, drop='first')\n",
        "\n",
        "# Apply the encoder to the columns\n",
        "encoded_df = pd.DataFrame(onehot_encoder.fit_transform(df[categorical_columns]))\n",
        "encoded_df.columns = onehot_encoder.get_feature_names_out(categorical_columns)"
      ],
      "metadata": {
        "id": "2S3BnvzT7Slb"
      },
      "execution_count": null,
      "outputs": []
    },
    {
      "cell_type": "code",
      "source": [
        "categorical_columns_drop = ['neighbourhood_group','neighbourhood','room_type']\n",
        "\n",
        "df_featureed = df.drop(columns=categorical_columns_drop)\n",
        "df_featureed = pd.concat([df_featureed, encoded_df], axis=1)\n",
        "\n",
        "df_featureed.head()"
      ],
      "metadata": {
        "id": "bplPXebM8SX7"
      },
      "execution_count": null,
      "outputs": []
    },
    {
      "cell_type": "code",
      "source": [
        "df_featureed.info()"
      ],
      "metadata": {
        "id": "09H43hz9DMtJ"
      },
      "execution_count": null,
      "outputs": []
    },
    {
      "cell_type": "code",
      "source": [
        "df['room_type'].unique()"
      ],
      "metadata": {
        "id": "yB4QoU-qFBHL"
      },
      "execution_count": null,
      "outputs": []
    },
    {
      "cell_type": "code",
      "source": [
        "# Correlation Heatmap\n",
        "plt.figure(figsize=(12, 8))\n",
        "sns.heatmap(df_featureed.corr(), annot=False, fmt=\".2f\", cmap='viridis')\n",
        "plt.title('Correlation Heatmap')\n",
        "plt.tight_layout()\n",
        "plt.show()"
      ],
      "metadata": {
        "id": "yVs-mlnB_KjU"
      },
      "execution_count": null,
      "outputs": []
    },
    {
      "cell_type": "markdown",
      "source": [
        "## Feature Engineering (Optional)"
      ],
      "metadata": {
        "id": "uMhqJgfcFxlT"
      }
    },
    {
      "cell_type": "code",
      "source": [
        "categorical_columns_1 = ['neighbourhood_group','neighbourhood','room_type']\n",
        "\n",
        "# OneHotEncoded these categorical columns\n",
        "onehot_encoder_1 = OneHotEncoder(sparse=False, drop='first')\n",
        "\n",
        "# Apply the encoder to the columns\n",
        "encoded_df_1 = pd.DataFrame(onehot_encoder_1.fit_transform(df[categorical_columns_1]))\n",
        "encoded_df_1.columns = onehot_encoder_1.get_feature_names_out(categorical_columns_1)"
      ],
      "metadata": {
        "id": "T7UQN6UNGYfN"
      },
      "execution_count": null,
      "outputs": []
    },
    {
      "cell_type": "code",
      "source": [
        "categorical_columns_drop_1 = ['neighbourhood_group','neighbourhood','room_type']\n",
        "\n",
        "df_featureed_1 = df.drop(columns=categorical_columns_drop_1)\n",
        "df_featureed_1 = pd.concat([df_featureed_1, encoded_df_1], axis=1)"
      ],
      "metadata": {
        "id": "vTbez5c9Fz2L"
      },
      "execution_count": null,
      "outputs": []
    },
    {
      "cell_type": "code",
      "source": [
        "# Correlation Heatmap\n",
        "plt.figure(figsize=(120, 80))\n",
        "sns.heatmap(df_featureed_1.corr(), annot=False, fmt=\".2f\", cmap='viridis')\n",
        "plt.title('Correlation Heatmap')\n",
        "plt.tight_layout()\n",
        "plt.show()"
      ],
      "metadata": {
        "id": "QDzIwXvZGgUK"
      },
      "execution_count": null,
      "outputs": []
    },
    {
      "cell_type": "markdown",
      "source": [
        "## Data Split"
      ],
      "metadata": {
        "id": "ENPQiTZGKBXn"
      }
    },
    {
      "cell_type": "code",
      "source": [
        "from sklearn.model_selection import train_test_split"
      ],
      "metadata": {
        "id": "1bdIVx1ELdDx"
      },
      "execution_count": null,
      "outputs": []
    },
    {
      "cell_type": "code",
      "source": [
        "X = df_featureed.drop('price', axis=1)\n",
        "y = df_featureed['price']"
      ],
      "metadata": {
        "id": "AoueUx6GIm5S"
      },
      "execution_count": null,
      "outputs": []
    },
    {
      "cell_type": "code",
      "source": [
        "X_train, X_test, y_train, y_test = train_test_split(X, y, test_size=0.2, random_state=101)"
      ],
      "metadata": {
        "id": "oMTsY9FuI1MX"
      },
      "execution_count": null,
      "outputs": []
    },
    {
      "cell_type": "code",
      "source": [
        "split_shapes = {\n",
        "    \"Train X size\": X_train.shape,\n",
        "    \"Train y size\": y_train.shape,\n",
        "    \"Test X size\": X_test.shape,\n",
        "    \"Test y size\": y_test.shape\n",
        "}\n",
        "\n",
        "split_shapes"
      ],
      "metadata": {
        "id": "8h3EE4ZPI_6E"
      },
      "execution_count": null,
      "outputs": []
    },
    {
      "cell_type": "markdown",
      "source": [
        "## Regression"
      ],
      "metadata": {
        "id": "8F5VyS2hJh64"
      }
    },
    {
      "cell_type": "code",
      "source": [
        "from sklearn.linear_model import LinearRegression\n",
        "from sklearn.metrics import mean_squared_error, r2_score"
      ],
      "metadata": {
        "id": "mdCDJ2ahJkJD"
      },
      "execution_count": null,
      "outputs": []
    },
    {
      "cell_type": "code",
      "source": [
        "linear_model = LinearRegression()\n",
        "linear_model.fit(X_train, y_train)"
      ],
      "metadata": {
        "id": "NqJiJoGQJ2rb"
      },
      "execution_count": null,
      "outputs": []
    },
    {
      "cell_type": "code",
      "source": [
        "y_pred = linear_model.predict(X_test)"
      ],
      "metadata": {
        "id": "NIUxv0-JJ_1W"
      },
      "execution_count": null,
      "outputs": []
    },
    {
      "cell_type": "code",
      "source": [
        "# Evaluation\n",
        "mse = mean_squared_error(y_test, y_pred)\n",
        "r2 = r2_score(y_test, y_pred)"
      ],
      "metadata": {
        "id": "Aw3dxgfDKFr5"
      },
      "execution_count": null,
      "outputs": []
    },
    {
      "cell_type": "code",
      "source": [
        "mse"
      ],
      "metadata": {
        "id": "tcQU1u_LKS1r"
      },
      "execution_count": null,
      "outputs": []
    },
    {
      "cell_type": "code",
      "source": [
        "r2"
      ],
      "metadata": {
        "id": "-QjTAo4aKUzG"
      },
      "execution_count": null,
      "outputs": []
    },
    {
      "cell_type": "markdown",
      "source": [
        "## Hypothesis Testing"
      ],
      "metadata": {
        "id": "To-LDSZnKyV6"
      }
    },
    {
      "cell_type": "code",
      "source": [
        "import statsmodels.api as sm"
      ],
      "metadata": {
        "id": "vuyUUnw7K0u4"
      },
      "execution_count": null,
      "outputs": []
    },
    {
      "cell_type": "code",
      "source": [
        "X = sm.add_constant(X)\n",
        "model = sm.OLS(y, X).fit()"
      ],
      "metadata": {
        "id": "fl8KKA2OK54p"
      },
      "execution_count": null,
      "outputs": []
    },
    {
      "cell_type": "code",
      "source": [
        "model.summary()"
      ],
      "metadata": {
        "id": "s-pKkNPGLKon"
      },
      "execution_count": null,
      "outputs": []
    },
    {
      "cell_type": "markdown",
      "source": [
        "## New Modeling"
      ],
      "metadata": {
        "id": "9sD4IznPMb4q"
      }
    },
    {
      "cell_type": "code",
      "source": [
        "#drop_columns = ['minimum_nights', 'reviews_per_month', 'calculated_host_listings_count', 'availability_365', 'price']\n",
        "\n",
        "X = df_featureed_1.drop('price', axis=1)\n",
        "y = df_featureed_1['price']"
      ],
      "metadata": {
        "id": "SjC_xIZqMd7C"
      },
      "execution_count": null,
      "outputs": []
    },
    {
      "cell_type": "code",
      "source": [
        "X_train, X_test, y_train, y_test = train_test_split(X, y, test_size=0.2, random_state=101)"
      ],
      "metadata": {
        "id": "UKNeMLv0M50l"
      },
      "execution_count": null,
      "outputs": []
    },
    {
      "cell_type": "code",
      "source": [
        "split_shapes = {\n",
        "    \"Train X size\": X_train.shape,\n",
        "    \"Train y size\": y_train.shape,\n",
        "    \"Test X size\": X_test.shape,\n",
        "    \"Test y size\": y_test.shape\n",
        "}\n",
        "\n",
        "split_shapes"
      ],
      "metadata": {
        "id": "BYFBqe1jM9tw"
      },
      "execution_count": null,
      "outputs": []
    },
    {
      "cell_type": "code",
      "source": [
        "linear_model = LinearRegression()\n",
        "linear_model.fit(X_train, y_train)\n",
        "\n",
        "y_pred = linear_model.predict(X_test)"
      ],
      "metadata": {
        "id": "0VOykXMzNFHi"
      },
      "execution_count": null,
      "outputs": []
    },
    {
      "cell_type": "code",
      "source": [
        "# Evaluation\n",
        "mse = mean_squared_error(y_test, y_pred)\n",
        "r2 = r2_score(y_test, y_pred)"
      ],
      "metadata": {
        "id": "eJr7IYmkNNv3"
      },
      "execution_count": null,
      "outputs": []
    },
    {
      "cell_type": "code",
      "source": [
        "mse"
      ],
      "metadata": {
        "id": "Ke0IrneKNOeO"
      },
      "execution_count": null,
      "outputs": []
    },
    {
      "cell_type": "code",
      "source": [
        "r2"
      ],
      "metadata": {
        "id": "12G0CrSwNPwY"
      },
      "execution_count": null,
      "outputs": []
    },
    {
      "cell_type": "code",
      "source": [
        "X = sm.add_constant(X)\n",
        "model = sm.OLS(y, X).fit()"
      ],
      "metadata": {
        "id": "nLFaV5dXNvsd"
      },
      "execution_count": null,
      "outputs": []
    },
    {
      "cell_type": "code",
      "source": [
        "model.summary()"
      ],
      "metadata": {
        "id": "M_dW6PmaNzH4"
      },
      "execution_count": null,
      "outputs": []
    },
    {
      "cell_type": "markdown",
      "source": [
        "## Extra Modeling"
      ],
      "metadata": {
        "id": "gi2w7HYsOIvl"
      }
    },
    {
      "cell_type": "code",
      "source": [
        "from sklearn.tree import DecisionTreeRegressor"
      ],
      "metadata": {
        "id": "wPosrB8tOLfB"
      },
      "execution_count": null,
      "outputs": []
    },
    {
      "cell_type": "code",
      "source": [
        "#drop_columns = ['minimum_nights', 'reviews_per_month', 'calculated_host_listings_count', 'availability_365', 'price']\n",
        "\n",
        "X = df_featureed.drop('price', axis=1)\n",
        "y = df_featureed['price']\n",
        "\n",
        "X_train, X_test, y_train, y_test = train_test_split(X, y, test_size=0.3, random_state=101)\n",
        "\n",
        "split_shapes = {\n",
        "    \"Train X size\": X_train.shape,\n",
        "    \"Train y size\": y_train.shape,\n",
        "    \"Test X size\": X_test.shape,\n",
        "    \"Test y size\": y_test.shape\n",
        "}\n",
        "\n",
        "split_shapes"
      ],
      "metadata": {
        "id": "40hq9ZV0UN_j"
      },
      "execution_count": null,
      "outputs": []
    },
    {
      "cell_type": "code",
      "source": [
        "decision_tree_reg = DecisionTreeRegressor(random_state=101)\n",
        "decision_tree_reg.fit(X_train, y_train)"
      ],
      "metadata": {
        "id": "nSPxA0PAPFm4"
      },
      "execution_count": null,
      "outputs": []
    },
    {
      "cell_type": "code",
      "source": [
        "y_pred_tree = decision_tree_reg.predict(X_test)"
      ],
      "metadata": {
        "id": "pyYW9DlqTXAM"
      },
      "execution_count": null,
      "outputs": []
    },
    {
      "cell_type": "code",
      "source": [
        "mse_tree = mean_squared_error(y_test, y_pred_tree)\n",
        "r2_tree = r2_score(y_test, y_pred_tree)"
      ],
      "metadata": {
        "id": "6dQuD9pqTdHZ"
      },
      "execution_count": null,
      "outputs": []
    },
    {
      "cell_type": "code",
      "source": [
        "mse_tree"
      ],
      "metadata": {
        "id": "ewJpx5-KTqU9"
      },
      "execution_count": null,
      "outputs": []
    },
    {
      "cell_type": "code",
      "source": [
        "r2_tree"
      ],
      "metadata": {
        "id": "lI90dfILTrig"
      },
      "execution_count": null,
      "outputs": []
    }
  ]
}